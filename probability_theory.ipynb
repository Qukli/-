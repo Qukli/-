{
 "cells": [
  {
   "cell_type": "markdown",
   "id": "c7ad5cb1-6299-42f7-8b54-7e02ce1177af",
   "metadata": {},
   "source": [
    "Разработали спам-фильтр на основании часто встречающихся фраз. 70% всех писем –это\n",
    "спам. В 10 % писем со спамом встречается фраза: «вся правда о» и в 0.5% она встречается\n",
    "в хороших письмах. Какова вероятность, что пришедшее на почту письмо является спамом,\n",
    "если в нем есть данная фраза?"
   ]
  },
  {
   "cell_type": "code",
   "execution_count": 3,
   "id": "c300539e-b03c-4df9-a07e-55f625b9d358",
   "metadata": {},
   "outputs": [
    {
     "data": {
      "text/plain": [
       "0.979020979020979"
      ]
     },
     "execution_count": 3,
     "metadata": {},
     "output_type": "execute_result"
    }
   ],
   "source": [
    "# P(B / A) = P(A / B) * P(B) / p(A)\n",
    "#B - спам, A - Фраза\n",
    "P_B = 0.7\n",
    "P_AB = 0.1\n",
    "P_A = 0.7 * 0.1 + 0.3 * 0.005\n",
    "P_BA = P_B * P_AB / P_A\n",
    "P_BA"
   ]
  },
  {
   "cell_type": "code",
   "execution_count": null,
   "id": "1aa77bfc-061e-4a25-94cd-a552870cbd3b",
   "metadata": {},
   "outputs": [],
   "source": []
  }
 ],
 "metadata": {
  "kernelspec": {
   "display_name": "Python 3 (ipykernel)",
   "language": "python",
   "name": "python3"
  },
  "language_info": {
   "codemirror_mode": {
    "name": "ipython",
    "version": 3
   },
   "file_extension": ".py",
   "mimetype": "text/x-python",
   "name": "python",
   "nbconvert_exporter": "python",
   "pygments_lexer": "ipython3",
   "version": "3.10.9"
  }
 },
 "nbformat": 4,
 "nbformat_minor": 5
}
